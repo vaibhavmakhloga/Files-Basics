{
 "cells": [
  {
   "cell_type": "code",
   "execution_count": 2,
   "metadata": {},
   "outputs": [],
   "source": [
    "import csv\n",
    "with open('../datasets/amazon_jobs_dataset.csv',encoding='utf8') as fileobj:\n",
    "    dataobj=csv.DictReader(fileobj,delimiter=',',skipinitialspace=True)\n",
    "    datalist=list(dataobj)\n"
   ]
  },
  {
   "cell_type": "code",
   "execution_count": 3,
   "metadata": {},
   "outputs": [
    {
     "name": "stdout",
     "output_type": "stream",
     "text": [
      "2961\n"
     ]
    }
   ],
   "source": [
    "count=0\n",
    "for row in datalist:\n",
    "    arr=row['BASIC QUALIFICATIONS']\n",
    "    arr_split=arr\n",
    "    if 'Bachelor' in arr_split:\n",
    "        count+=1\n",
    "    elif 'BS' in arr_split:\n",
    "        count+=1\n",
    "    elif 'BA' in arr_split:\n",
    "        count+=1\n",
    "print(int(count))"
   ]
  },
  {
   "cell_type": "code",
   "execution_count": null,
   "metadata": {},
   "outputs": [],
   "source": []
  }
 ],
 "metadata": {
  "kernelspec": {
   "display_name": "Python 3",
   "language": "python",
   "name": "python3"
  },
  "language_info": {
   "codemirror_mode": {
    "name": "ipython",
    "version": 3
   },
   "file_extension": ".py",
   "mimetype": "text/x-python",
   "name": "python",
   "nbconvert_exporter": "python",
   "pygments_lexer": "ipython3",
   "version": "3.7.1"
  }
 },
 "nbformat": 4,
 "nbformat_minor": 2
}
