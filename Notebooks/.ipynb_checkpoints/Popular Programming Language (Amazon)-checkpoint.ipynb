{
 "cells": [
  {
   "cell_type": "code",
   "execution_count": 44,
   "metadata": {},
   "outputs": [],
   "source": [
    "import csv\n",
    "with open('../datasets/amazon_jobs_dataset.csv',encoding='utf8') as fileobj:\n",
    "    dataobj=csv.DictReader(fileobj,delimiter=',',skipinitialspace=True)\n",
    "    datalist=list(dataobj)"
   ]
  },
  {
   "cell_type": "code",
   "execution_count": 45,
   "metadata": {},
   "outputs": [
    {
     "name": "stdout",
     "output_type": "stream",
     "text": [
      "C++ job openings :  77\n"
     ]
    }
   ],
   "source": [
    "Cplus=[]\n",
    "for row in datalist:\n",
    "    loc=row['location']\n",
    "    qual=row['BASIC QUALIFICATIONS']\n",
    "    if 'IN' in loc:\n",
    "        if 'DUBLIN' not in loc:\n",
    "            if 'Bachelor' or 'BS' or 'BA' in qual:\n",
    "                if 'C++' in qual:\n",
    "                    Cplus.append(loc)\n",
    "print('C++ job openings : ',len(Cplus))"
   ]
  },
  {
   "cell_type": "code",
   "execution_count": 46,
   "metadata": {},
   "outputs": [
    {
     "name": "stdout",
     "output_type": "stream",
     "text": [
      "Python job openings :  30\n"
     ]
    }
   ],
   "source": [
    "Python=[]\n",
    "for row in datalist:\n",
    "    loc=row['location']\n",
    "    qual=row['BASIC QUALIFICATIONS']\n",
    "    if 'IN' in loc:\n",
    "        if 'DUBLIN' not in loc:\n",
    "            if 'Bachelor' or 'BS' or 'BA' in qual:\n",
    "                if 'Python' in qual:\n",
    "                    Python.append(loc)\n",
    "print('Python job openings : ',len(Python))"
   ]
  },
  {
   "cell_type": "code",
   "execution_count": 47,
   "metadata": {},
   "outputs": [
    {
     "name": "stdout",
     "output_type": "stream",
     "text": [
      "Java job openings : 79\n"
     ]
    }
   ],
   "source": [
    "Java=[]\n",
    "for row in datalist:\n",
    "    loc=row['location']\n",
    "    qual=row['BASIC QUALIFICATIONS']\n",
    "    if 'IN' in loc:\n",
    "        if 'DUBLIN' not in loc:\n",
    "            if ('Bachelor' or 'BS' or 'BA') in qual:\n",
    "                if 'Java' in qual:\n",
    "                    Java.append(loc)\n",
    "print('Java job openings :',len(Java))"
   ]
  }
 ],
 "metadata": {
  "kernelspec": {
   "display_name": "Python 3",
   "language": "python",
   "name": "python3"
  },
  "language_info": {
   "codemirror_mode": {
    "name": "ipython",
    "version": 3
   },
   "file_extension": ".py",
   "mimetype": "text/x-python",
   "name": "python",
   "nbconvert_exporter": "python",
   "pygments_lexer": "ipython3",
   "version": "3.7.1"
  }
 },
 "nbformat": 4,
 "nbformat_minor": 2
}
