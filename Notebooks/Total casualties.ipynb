{
 "cells": [
  {
   "cell_type": "code",
   "execution_count": 4,
   "metadata": {},
   "outputs": [],
   "source": [
    "import csv\n",
    "with open('../datasets/terrorismData.csv') as fileobj:\n",
    "    dataobj=csv.DictReader(fileobj,delimiter=',',skipinitialspace=True) \n",
    "    datalist=list(dataobj)"
   ]
  },
  {
   "cell_type": "code",
   "execution_count": 14,
   "metadata": {},
   "outputs": [
    {
     "data": {
      "text/plain": [
       "181691"
      ]
     },
     "execution_count": 14,
     "metadata": {},
     "output_type": "execute_result"
    }
   ],
   "source": [
    "len(datalist)"
   ]
  },
  {
   "cell_type": "code",
   "execution_count": 9,
   "metadata": {},
   "outputs": [
    {
     "data": {
      "text/plain": [
       "OrderedDict([('Year', '1970'),\n",
       "             ('Month', '1'),\n",
       "             ('Day', '0'),\n",
       "             ('Country', 'Greece'),\n",
       "             ('State', 'Attica'),\n",
       "             ('Region', 'Western Europe'),\n",
       "             ('City', 'Athens'),\n",
       "             ('Latitude', '37.99749'),\n",
       "             ('Longitude', '23.762728'),\n",
       "             ('AttackType', 'Bombing/Explosion'),\n",
       "             ('Killed', ''),\n",
       "             ('Wounded', ''),\n",
       "             ('Target', 'U.S. Embassy'),\n",
       "             ('Summary', ''),\n",
       "             ('Group', 'Unknown'),\n",
       "             ('Target_type', 'Government (Diplomatic)'),\n",
       "             ('Weapon_type', 'Explosives')])"
      ]
     },
     "execution_count": 9,
     "metadata": {},
     "output_type": "execute_result"
    }
   ],
   "source": [
    "datalist[3]"
   ]
  },
  {
   "cell_type": "code",
   "execution_count": 13,
   "metadata": {},
   "outputs": [
    {
     "name": "stdout",
     "output_type": "stream",
     "text": [
      "174277\n"
     ]
    }
   ],
   "source": [
    "killed=[]\n",
    "for row in datalist:\n",
    "    if row['Weapon_type']=='Explosives':\n",
    "        if row['Killed']!='':\n",
    "            k.append(float(row['Killed']))\n",
    "print(int(sum(k)))"
   ]
  }
 ],
 "metadata": {
  "kernelspec": {
   "display_name": "Python 3",
   "language": "python",
   "name": "python3"
  },
  "language_info": {
   "codemirror_mode": {
    "name": "ipython",
    "version": 3
   },
   "file_extension": ".py",
   "mimetype": "text/x-python",
   "name": "python",
   "nbconvert_exporter": "python",
   "pygments_lexer": "ipython3",
   "version": "3.7.1"
  }
 },
 "nbformat": 4,
 "nbformat_minor": 2
}
