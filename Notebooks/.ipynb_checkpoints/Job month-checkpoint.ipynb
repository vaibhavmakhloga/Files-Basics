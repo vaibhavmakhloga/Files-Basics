{
 "cells": [
  {
   "cell_type": "code",
   "execution_count": 6,
   "metadata": {},
   "outputs": [],
   "source": [
    "import csv\n",
    "posting_date=[]\n",
    "path='../datasets/amazon_jobs_dataset.csv'\n",
    "with open(path,'r',encoding='utf-8') as csvfile:\n",
    "    reader=csv.DictReader(csvfile)\n",
    "    for row in reader:\n",
    "        posting_date.append(row['Posting_date'])"
   ]
  },
  {
   "cell_type": "code",
   "execution_count": 7,
   "metadata": {},
   "outputs": [],
   "source": [
    "def getthejobyearlist(arr,year):\n",
    "    year_list=[]\n",
    "    for i in arr:\n",
    "        if i.split(' ')[-1]==year:\n",
    "            year_list.append(i)\n",
    "    return year_list\n",
    "\n",
    "year2018=getthejobyearlist(posting_date,'2018')"
   ]
  },
  {
   "cell_type": "code",
   "execution_count": 8,
   "metadata": {},
   "outputs": [],
   "source": [
    "def getthemonthlist(arr):\n",
    "    month=[]\n",
    "    for i in arr:\n",
    "        month.append(i.split(' ')[0])\n",
    "    return month"
   ]
  },
  {
   "cell_type": "code",
   "execution_count": 9,
   "metadata": {},
   "outputs": [],
   "source": [
    "def createdict(arr):\n",
    "    dictionary={i:0 for i in set(arr)}\n",
    "    for i in arr:\n",
    "        dictionary[i]=dictionary.get(i)+1\n",
    "    return dictionary \n",
    "\n",
    "dictionary=createdict(getthemonthlist(year2018))"
   ]
  },
  {
   "cell_type": "code",
   "execution_count": 10,
   "metadata": {},
   "outputs": [],
   "source": [
    "def convertdicttolist(dictionary):\n",
    "    month_job=[]\n",
    "    for i in dictionary:\n",
    "        month_job.append([dictionary.get(i),i])\n",
    "    month_job.sort(reverse=True)\n",
    "    return month_job"
   ]
  },
  {
   "cell_type": "code",
   "execution_count": 11,
   "metadata": {},
   "outputs": [
    {
     "name": "stdout",
     "output_type": "stream",
     "text": [
      "January 907\n"
     ]
    }
   ],
   "source": [
    "month2018=convertdicttolist(dictionary)\n",
    "print(month2018[0][1],month2018[0][0])"
   ]
  }
 ],
 "metadata": {
  "kernelspec": {
   "display_name": "Python 3",
   "language": "python",
   "name": "python3"
  },
  "language_info": {
   "codemirror_mode": {
    "name": "ipython",
    "version": 3
   },
   "file_extension": ".py",
   "mimetype": "text/x-python",
   "name": "python",
   "nbconvert_exporter": "python",
   "pygments_lexer": "ipython3",
   "version": "3.7.1"
  }
 },
 "nbformat": 4,
 "nbformat_minor": 2
}
