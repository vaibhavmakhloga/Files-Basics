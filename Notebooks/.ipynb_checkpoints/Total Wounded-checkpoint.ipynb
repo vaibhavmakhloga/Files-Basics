{
 "cells": [
  {
   "cell_type": "code",
   "execution_count": 2,
   "metadata": {},
   "outputs": [],
   "source": [
    "import csv\n",
    "with open('../datasets/terrorismData.csv') as fileobj:\n",
    "    dataobj=csv.reader(fileobj,delimiter=',',skipinitialspace=True)\n",
    "    datalist=list(dataobj)"
   ]
  },
  {
   "cell_type": "code",
   "execution_count": 24,
   "metadata": {},
   "outputs": [
    {
     "data": {
      "text/plain": [
       "['Year',\n",
       " 'Month',\n",
       " 'Day',\n",
       " 'Country',\n",
       " 'State',\n",
       " 'Region',\n",
       " 'City',\n",
       " 'Latitude',\n",
       " 'Longitude',\n",
       " 'AttackType',\n",
       " 'Killed',\n",
       " 'Wounded',\n",
       " 'Target',\n",
       " 'Summary',\n",
       " 'Group',\n",
       " 'Target_type',\n",
       " 'Weapon_type']"
      ]
     },
     "execution_count": 24,
     "metadata": {},
     "output_type": "execute_result"
    }
   ],
   "source": [
    "datalist[0] #Columns"
   ]
  },
  {
   "cell_type": "code",
   "execution_count": 25,
   "metadata": {},
   "outputs": [
    {
     "data": {
      "text/plain": [
       "181692"
      ]
     },
     "execution_count": 25,
     "metadata": {},
     "output_type": "execute_result"
    }
   ],
   "source": [
    "len(datalist)"
   ]
  },
  {
   "cell_type": "code",
   "execution_count": 16,
   "metadata": {},
   "outputs": [],
   "source": [
    "Wounded=[]\n",
    "for row in datalist[1:]:\n",
    "    mid=row[:][10]\n",
    "    if mid !='':\n",
    "        Wounded.append(float(mid))"
   ]
  },
  {
   "cell_type": "code",
   "execution_count": 17,
   "metadata": {},
   "outputs": [
    {
     "data": {
      "text/plain": [
       "[1.0, 0.0, 1.0]"
      ]
     },
     "execution_count": 17,
     "metadata": {},
     "output_type": "execute_result"
    }
   ],
   "source": [
    "Wounded[:3]"
   ]
  },
  {
   "cell_type": "code",
   "execution_count": 18,
   "metadata": {},
   "outputs": [
    {
     "name": "stdout",
     "output_type": "stream",
     "text": [
      "411868\n"
     ]
    }
   ],
   "source": [
    "print(int(sum(Wounded))) #Total wounded people in all the terrorist attacks from 1970-2017"
   ]
  },
  {
   "cell_type": "code",
   "execution_count": null,
   "metadata": {},
   "outputs": [],
   "source": []
  }
 ],
 "metadata": {
  "kernelspec": {
   "display_name": "Python 3",
   "language": "python",
   "name": "python3"
  },
  "language_info": {
   "codemirror_mode": {
    "name": "ipython",
    "version": 3
   },
   "file_extension": ".py",
   "mimetype": "text/x-python",
   "name": "python",
   "nbconvert_exporter": "python",
   "pygments_lexer": "ipython3",
   "version": "3.7.1"
  }
 },
 "nbformat": 4,
 "nbformat_minor": 2
}
